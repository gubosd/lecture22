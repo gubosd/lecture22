{
 "cells": [
  {
   "cell_type": "markdown",
   "id": "3e3b2f79",
   "metadata": {},
   "source": [
    "## 데이터분석\n",
    "# list 와 numpy\n",
    "- numpy 는 list 의 확장판이다\n",
    "- 주로 대용량의 수치데이터 처리를 위해 만들어졌다"
   ]
  },
  {
   "cell_type": "markdown",
   "id": "19137375",
   "metadata": {},
   "source": [
    "### list\n",
    "- 데이터를 담는 그릇\n",
    "- 어떤 타입이라도 항목으로 넣을 수 있다"
   ]
  },
  {
   "cell_type": "code",
   "execution_count": 2,
   "id": "e0ebc702",
   "metadata": {},
   "outputs": [
    {
     "data": {
      "text/plain": [
       "[1, 2, 3]"
      ]
     },
     "execution_count": 2,
     "metadata": {},
     "output_type": "execute_result"
    }
   ],
   "source": [
    "l = [1,2,3]\n",
    "l"
   ]
  },
  {
   "cell_type": "code",
   "execution_count": 18,
   "id": "7af0d455",
   "metadata": {},
   "outputs": [
    {
     "data": {
      "text/plain": [
       "[1, 2.0, 3.14, 'four']"
      ]
     },
     "execution_count": 18,
     "metadata": {},
     "output_type": "execute_result"
    }
   ],
   "source": [
    "l = [1, 2.0, 3.14, 'four']\n",
    "l"
   ]
  },
  {
   "cell_type": "markdown",
   "id": "a0d478fb",
   "metadata": {},
   "source": [
    "### for 문에서의 리스트"
   ]
  },
  {
   "cell_type": "code",
   "execution_count": 19,
   "id": "4e181f35",
   "metadata": {},
   "outputs": [
    {
     "name": "stdout",
     "output_type": "stream",
     "text": [
      "1\n",
      "2.0\n",
      "3.14\n",
      "four\n"
     ]
    }
   ],
   "source": [
    "for item in l:\n",
    "    print(item)"
   ]
  },
  {
   "cell_type": "code",
   "execution_count": 22,
   "id": "29780ac1",
   "metadata": {},
   "outputs": [
    {
     "name": "stdout",
     "output_type": "stream",
     "text": [
      "2\n",
      "3\n"
     ]
    }
   ],
   "source": [
    "for item in l:\n",
    "    if type(item) == float:\n",
    "        print(int(item))"
   ]
  },
  {
   "cell_type": "markdown",
   "id": "0a38fb79",
   "metadata": {},
   "source": [
    "### 리스트 안의 리스트\n",
    "- 데이터 저장에 유용하다"
   ]
  },
  {
   "cell_type": "code",
   "execution_count": 4,
   "id": "4bb7e80b",
   "metadata": {},
   "outputs": [
    {
     "data": {
      "text/plain": [
       "[1, 2, [3, 4, 5]]"
      ]
     },
     "execution_count": 4,
     "metadata": {},
     "output_type": "execute_result"
    }
   ],
   "source": [
    "l = [1, 2, [3,4,5]]\n",
    "l"
   ]
  },
  {
   "cell_type": "code",
   "execution_count": 5,
   "id": "7f5f70b1",
   "metadata": {},
   "outputs": [
    {
     "data": {
      "text/plain": [
       "3"
      ]
     },
     "execution_count": 5,
     "metadata": {},
     "output_type": "execute_result"
    }
   ],
   "source": [
    "len(l)"
   ]
  },
  {
   "cell_type": "code",
   "execution_count": 7,
   "id": "8565fa3c",
   "metadata": {},
   "outputs": [
    {
     "data": {
      "text/plain": [
       "[3, 4, 5]"
      ]
     },
     "execution_count": 7,
     "metadata": {},
     "output_type": "execute_result"
    }
   ],
   "source": [
    "l[2] # l[-1]"
   ]
  },
  {
   "cell_type": "code",
   "execution_count": 8,
   "id": "848c3e59",
   "metadata": {},
   "outputs": [
    {
     "data": {
      "text/plain": [
       "[[1], [2, 3], [4, 5, 6]]"
      ]
     },
     "execution_count": 8,
     "metadata": {},
     "output_type": "execute_result"
    }
   ],
   "source": [
    "l = [[1], [2,3], [4,5,6]]\n",
    "l"
   ]
  },
  {
   "cell_type": "code",
   "execution_count": 9,
   "id": "544629c5",
   "metadata": {},
   "outputs": [
    {
     "data": {
      "text/plain": [
       "[[1], [2, [3, 4]], [5, [6, [7, 8]]]]"
      ]
     },
     "execution_count": 9,
     "metadata": {},
     "output_type": "execute_result"
    }
   ],
   "source": [
    "l = [[1], [2,[3,4]], [5,[6,[7,8]]]]\n",
    "l"
   ]
  },
  {
   "cell_type": "code",
   "execution_count": 11,
   "id": "704aadc0",
   "metadata": {},
   "outputs": [
    {
     "data": {
      "text/plain": [
       "7"
      ]
     },
     "execution_count": 11,
     "metadata": {},
     "output_type": "execute_result"
    }
   ],
   "source": [
    "# 7을 출력\n",
    "l[2][1][1][0]"
   ]
  },
  {
   "cell_type": "markdown",
   "id": "fda87d68",
   "metadata": {},
   "source": [
    "### 표형태 리스트\n",
    "- 가장 일반적인 데이터 저장 방식이다"
   ]
  },
  {
   "cell_type": "code",
   "execution_count": 23,
   "id": "40c3e6ba",
   "metadata": {},
   "outputs": [
    {
     "data": {
      "text/plain": [
       "[[1, 2], [3, 4], [5, 6]]"
      ]
     },
     "execution_count": 23,
     "metadata": {},
     "output_type": "execute_result"
    }
   ],
   "source": [
    "l = [[1,2], [3,4], [5,6]]\n",
    "l"
   ]
  },
  {
   "cell_type": "code",
   "execution_count": 13,
   "id": "7da3c3e1",
   "metadata": {},
   "outputs": [
    {
     "data": {
      "text/plain": [
       "3"
      ]
     },
     "execution_count": 13,
     "metadata": {},
     "output_type": "execute_result"
    }
   ],
   "source": [
    "len(l) # 행의 갯수"
   ]
  },
  {
   "cell_type": "code",
   "execution_count": 14,
   "id": "cc0d1178",
   "metadata": {},
   "outputs": [
    {
     "data": {
      "text/plain": [
       "2"
      ]
     },
     "execution_count": 14,
     "metadata": {},
     "output_type": "execute_result"
    }
   ],
   "source": [
    "len(l[0]) # 열의 갯수"
   ]
  },
  {
   "cell_type": "code",
   "execution_count": 24,
   "id": "6d43aa22",
   "metadata": {},
   "outputs": [
    {
     "data": {
      "text/plain": [
       "[['홍길동', 22, 100, '서울'], ['장길산', 31, 93, '대전'], ['둘리', 5, 67, '우주']]"
      ]
     },
     "execution_count": 24,
     "metadata": {},
     "output_type": "execute_result"
    }
   ],
   "source": [
    "l = [['홍길동', 22, 100, '서울'], ['장길산', 31, 93, '대전'], ['둘리', 5, 67, '우주']]\n",
    "l"
   ]
  },
  {
   "cell_type": "code",
   "execution_count": 16,
   "id": "4c76c51a",
   "metadata": {},
   "outputs": [
    {
     "data": {
      "text/plain": [
       "['장길산', 31, 93, '대전']"
      ]
     },
     "execution_count": 16,
     "metadata": {},
     "output_type": "execute_result"
    }
   ],
   "source": [
    "# 장길산의 정보를 출력\n",
    "l[1]"
   ]
  },
  {
   "cell_type": "code",
   "execution_count": 17,
   "id": "2a0144ef",
   "metadata": {},
   "outputs": [
    {
     "name": "stdout",
     "output_type": "stream",
     "text": [
      "22\n",
      "31\n",
      "5\n"
     ]
    }
   ],
   "source": [
    "# 나이를 출력\n",
    "for i in l:\n",
    "    print(i[1])"
   ]
  },
  {
   "cell_type": "code",
   "execution_count": 26,
   "id": "86f79842",
   "metadata": {},
   "outputs": [
    {
     "data": {
      "text/plain": [
       "[22, 31, 5]"
      ]
     },
     "execution_count": 26,
     "metadata": {},
     "output_type": "execute_result"
    }
   ],
   "source": [
    "age = []\n",
    "for i in l:\n",
    "    age.append(i[1])\n",
    "age"
   ]
  },
  {
   "cell_type": "code",
   "execution_count": 27,
   "id": "3c6a0d82",
   "metadata": {},
   "outputs": [
    {
     "data": {
      "text/plain": [
       "[22, 31, 5]"
      ]
     },
     "execution_count": 27,
     "metadata": {},
     "output_type": "execute_result"
    }
   ],
   "source": [
    "age = [i[1] for i in l] # list comprehension\n",
    "age"
   ]
  },
  {
   "cell_type": "code",
   "execution_count": 28,
   "id": "acc4a504",
   "metadata": {},
   "outputs": [
    {
     "data": {
      "text/plain": [
       "[22, 31]"
      ]
     },
     "execution_count": 28,
     "metadata": {},
     "output_type": "execute_result"
    }
   ],
   "source": [
    "age = [i[1] for i in l if i[2]>90]\n",
    "age"
   ]
  },
  {
   "cell_type": "code",
   "execution_count": null,
   "id": "cd96ec88",
   "metadata": {},
   "outputs": [],
   "source": []
  },
  {
   "cell_type": "markdown",
   "id": "da92894c",
   "metadata": {},
   "source": [
    "### numpy 의 장점 (리스트와 비교)\n",
    "- 원하는 데이터를 잘라내기 쉽다\n",
    "- 데이터 처리속도가 빠르다\n",
    "- 메모리를 효율적으로 사용한다\n",
    "- 수학, 통계, 확률과 관련된 다양한 함수를 제공"
   ]
  },
  {
   "cell_type": "code",
   "execution_count": 72,
   "id": "578a6597",
   "metadata": {},
   "outputs": [],
   "source": [
    "import numpy as np"
   ]
  },
  {
   "cell_type": "code",
   "execution_count": 29,
   "id": "5b2078c3",
   "metadata": {},
   "outputs": [
    {
     "data": {
      "text/plain": [
       "array([[ 1,  2,  3],\n",
       "       [ 4,  5,  6],\n",
       "       [ 7,  8,  9],\n",
       "       [10, 11, 12]])"
      ]
     },
     "execution_count": 29,
     "metadata": {},
     "output_type": "execute_result"
    }
   ],
   "source": [
    "l = [[1,2,3], [4,5,6], [7,8,9], [10,11,12]]\n",
    "a = np.array(l)\n",
    "a"
   ]
  },
  {
   "cell_type": "code",
   "execution_count": 30,
   "id": "e19bd1e8",
   "metadata": {},
   "outputs": [
    {
     "data": {
      "text/plain": [
       "array([1, 2, 3])"
      ]
     },
     "execution_count": 30,
     "metadata": {},
     "output_type": "execute_result"
    }
   ],
   "source": [
    "a[0]"
   ]
  },
  {
   "cell_type": "code",
   "execution_count": 31,
   "id": "40770ddf",
   "metadata": {},
   "outputs": [
    {
     "data": {
      "text/plain": [
       "array([[1, 2, 3],\n",
       "       [4, 5, 6]])"
      ]
     },
     "execution_count": 31,
     "metadata": {},
     "output_type": "execute_result"
    }
   ],
   "source": [
    "a[:2]"
   ]
  },
  {
   "cell_type": "code",
   "execution_count": 32,
   "id": "e1ef28ef",
   "metadata": {},
   "outputs": [
    {
     "data": {
      "text/plain": [
       "array([[ 7,  8,  9],\n",
       "       [10, 11, 12]])"
      ]
     },
     "execution_count": 32,
     "metadata": {},
     "output_type": "execute_result"
    }
   ],
   "source": [
    "a[-2:]"
   ]
  },
  {
   "cell_type": "code",
   "execution_count": 33,
   "id": "a6c2d3da",
   "metadata": {},
   "outputs": [
    {
     "data": {
      "text/plain": [
       "array([ 1,  4,  7, 10])"
      ]
     },
     "execution_count": 33,
     "metadata": {},
     "output_type": "execute_result"
    }
   ],
   "source": [
    "a[:, 0]"
   ]
  },
  {
   "cell_type": "code",
   "execution_count": 34,
   "id": "6d77a079",
   "metadata": {},
   "outputs": [
    {
     "data": {
      "text/plain": [
       "array([ 3,  6,  9, 12])"
      ]
     },
     "execution_count": 34,
     "metadata": {},
     "output_type": "execute_result"
    }
   ],
   "source": [
    "a[:, -1]"
   ]
  },
  {
   "cell_type": "code",
   "execution_count": 35,
   "id": "11fc41ee",
   "metadata": {
    "scrolled": true
   },
   "outputs": [
    {
     "data": {
      "text/plain": [
       "array([[ 2,  3],\n",
       "       [ 5,  6],\n",
       "       [ 8,  9],\n",
       "       [11, 12]])"
      ]
     },
     "execution_count": 35,
     "metadata": {},
     "output_type": "execute_result"
    }
   ],
   "source": [
    "a[:, 1:3]"
   ]
  },
  {
   "cell_type": "code",
   "execution_count": null,
   "id": "6c0306ff",
   "metadata": {},
   "outputs": [],
   "source": []
  },
  {
   "cell_type": "code",
   "execution_count": 36,
   "id": "b4ce430a",
   "metadata": {},
   "outputs": [
    {
     "data": {
      "text/plain": [
       "array([[1, 2, 3],\n",
       "       [7, 8, 9]])"
      ]
     },
     "execution_count": 36,
     "metadata": {},
     "output_type": "execute_result"
    }
   ],
   "source": [
    "a[[0,2]] # 0번, 2번 행을 출력"
   ]
  },
  {
   "cell_type": "code",
   "execution_count": 40,
   "id": "991f97cd",
   "metadata": {},
   "outputs": [
    {
     "data": {
      "text/plain": [
       "array([[ 1,  3],\n",
       "       [ 4,  6],\n",
       "       [ 7,  9],\n",
       "       [10, 12]])"
      ]
     },
     "execution_count": 40,
     "metadata": {},
     "output_type": "execute_result"
    }
   ],
   "source": [
    "a[:, [0,2]] # 0번, 2번 열을 출력"
   ]
  },
  {
   "cell_type": "code",
   "execution_count": 39,
   "id": "9424e697",
   "metadata": {},
   "outputs": [
    {
     "data": {
      "text/plain": [
       "array([[1, 2, 3],\n",
       "       [7, 8, 9]])"
      ]
     },
     "execution_count": 39,
     "metadata": {},
     "output_type": "execute_result"
    }
   ],
   "source": [
    "a[::2] # 2칸 간격"
   ]
  },
  {
   "cell_type": "code",
   "execution_count": 41,
   "id": "b4860e27",
   "metadata": {},
   "outputs": [
    {
     "data": {
      "text/plain": [
       "array([[10, 11, 12],\n",
       "       [ 7,  8,  9],\n",
       "       [ 4,  5,  6],\n",
       "       [ 1,  2,  3]])"
      ]
     },
     "execution_count": 41,
     "metadata": {},
     "output_type": "execute_result"
    }
   ],
   "source": [
    "a[::-1] # 행의 역순"
   ]
  },
  {
   "cell_type": "code",
   "execution_count": 42,
   "id": "9d08fb34",
   "metadata": {},
   "outputs": [
    {
     "data": {
      "text/plain": [
       "array([[2, 3],\n",
       "       [5, 6]])"
      ]
     },
     "execution_count": 42,
     "metadata": {},
     "output_type": "execute_result"
    }
   ],
   "source": [
    "a[:2, 1:3] # 행: 0,1, 열: 1,2 => 직사각형 잘라내기"
   ]
  },
  {
   "cell_type": "code",
   "execution_count": null,
   "id": "a0a08467",
   "metadata": {},
   "outputs": [],
   "source": []
  },
  {
   "cell_type": "markdown",
   "id": "7e89e225",
   "metadata": {},
   "source": [
    "- 리스트와 numpy 처리속도 비교"
   ]
  },
  {
   "cell_type": "code",
   "execution_count": 48,
   "id": "c5a22b3d",
   "metadata": {},
   "outputs": [
    {
     "name": "stdout",
     "output_type": "stream",
     "text": [
      "2.7819926738739014\n"
     ]
    }
   ],
   "source": [
    "l = [[j for j in range(1000)] for i in range(1000)]\n",
    "\n",
    "import time\n",
    "t1 = time.time()\n",
    "l2 = [[j+1 for j in range(1000)] for i in range(1000)]\n",
    "t2 = time.time()\n",
    "\n",
    "print(t2-t1)"
   ]
  },
  {
   "cell_type": "code",
   "execution_count": 49,
   "id": "2f383f5f",
   "metadata": {},
   "outputs": [
    {
     "name": "stdout",
     "output_type": "stream",
     "text": [
      "0.015670299530029297\n"
     ]
    }
   ],
   "source": [
    "a = np.array(l)\n",
    "\n",
    "import time\n",
    "t1 = time.time()\n",
    "a2 = a + 1\n",
    "t2 = time.time()\n",
    "\n",
    "print(t2-t1)"
   ]
  },
  {
   "cell_type": "code",
   "execution_count": null,
   "id": "89bd3cf4",
   "metadata": {},
   "outputs": [],
   "source": []
  },
  {
   "cell_type": "markdown",
   "id": "6be4190b",
   "metadata": {},
   "source": [
    "- 메모리 관리"
   ]
  },
  {
   "cell_type": "code",
   "execution_count": 50,
   "id": "c9543398",
   "metadata": {},
   "outputs": [
    {
     "data": {
      "text/plain": [
       "array([[1, 2, 3],\n",
       "       [1, 2, 3],\n",
       "       [1, 2, 3]])"
      ]
     },
     "execution_count": 50,
     "metadata": {},
     "output_type": "execute_result"
    }
   ],
   "source": [
    "a2[:3, :3]"
   ]
  },
  {
   "cell_type": "code",
   "execution_count": 43,
   "id": "eb5fbcbe",
   "metadata": {},
   "outputs": [
    {
     "data": {
      "text/plain": [
       "array([[ 1,  2,  3],\n",
       "       [ 4,  5,  6],\n",
       "       [ 7,  8,  9],\n",
       "       [10, 11, 12]])"
      ]
     },
     "execution_count": 43,
     "metadata": {},
     "output_type": "execute_result"
    }
   ],
   "source": [
    "a"
   ]
  },
  {
   "cell_type": "code",
   "execution_count": 44,
   "id": "54304a20",
   "metadata": {},
   "outputs": [
    {
     "data": {
      "text/plain": [
       "array([[1, 2],\n",
       "       [4, 5]])"
      ]
     },
     "execution_count": 44,
     "metadata": {},
     "output_type": "execute_result"
    }
   ],
   "source": [
    "b = a[:2, :2]\n",
    "b"
   ]
  },
  {
   "cell_type": "code",
   "execution_count": 45,
   "id": "332bd40c",
   "metadata": {},
   "outputs": [
    {
     "data": {
      "text/plain": [
       "array([[9999,    2,    3],\n",
       "       [   4,    5,    6],\n",
       "       [   7,    8,    9],\n",
       "       [  10,   11,   12]])"
      ]
     },
     "execution_count": 45,
     "metadata": {},
     "output_type": "execute_result"
    }
   ],
   "source": [
    "b[0,0] = 9999 # b 는 a 의 참조(뷰)\n",
    "a"
   ]
  },
  {
   "cell_type": "markdown",
   "id": "074d09a7",
   "metadata": {},
   "source": [
    "> - numpy 는 데이터 원본을 최대한 유지한다\n",
    "> - 즉, 복사를 잘 하지 않는다\n",
    "> - 이유는 대용량 데이터에서 메모리를 적게 사용하기 위해서이다"
   ]
  },
  {
   "cell_type": "code",
   "execution_count": 51,
   "id": "a88dccf5",
   "metadata": {},
   "outputs": [
    {
     "data": {
      "text/plain": [
       "[2, 3, 4]"
      ]
     },
     "execution_count": 51,
     "metadata": {},
     "output_type": "execute_result"
    }
   ],
   "source": [
    "l = [1,2,3,4,5]\n",
    "l2 = l[1:4]\n",
    "l2"
   ]
  },
  {
   "cell_type": "code",
   "execution_count": 52,
   "id": "5227bba5",
   "metadata": {},
   "outputs": [
    {
     "data": {
      "text/plain": [
       "[1, 2, 3, 4, 5]"
      ]
     },
     "metadata": {},
     "output_type": "display_data"
    },
    {
     "data": {
      "text/plain": [
       "[9999, 3, 4]"
      ]
     },
     "metadata": {},
     "output_type": "display_data"
    }
   ],
   "source": [
    "l2[0] = 9999\n",
    "display(l, l2)"
   ]
  },
  {
   "cell_type": "code",
   "execution_count": null,
   "id": "ab4de218",
   "metadata": {},
   "outputs": [],
   "source": []
  },
  {
   "cell_type": "code",
   "execution_count": 53,
   "id": "a5939fb3",
   "metadata": {},
   "outputs": [
    {
     "data": {
      "text/plain": [
       "array([ 0.84147098,  0.90929743,  0.14112001, -0.7568025 , -0.95892427])"
      ]
     },
     "execution_count": 53,
     "metadata": {},
     "output_type": "execute_result"
    }
   ],
   "source": [
    "a = np.array([1,2,3,4,5])\n",
    "np.sin(a)"
   ]
  },
  {
   "cell_type": "code",
   "execution_count": 54,
   "id": "9ff497e3",
   "metadata": {},
   "outputs": [
    {
     "data": {
      "text/plain": [
       "1.4142135623730951"
      ]
     },
     "execution_count": 54,
     "metadata": {},
     "output_type": "execute_result"
    }
   ],
   "source": [
    "a.std()"
   ]
  },
  {
   "cell_type": "code",
   "execution_count": 56,
   "id": "1dddd835",
   "metadata": {},
   "outputs": [
    {
     "data": {
      "text/plain": [
       "array([[0.34152874, 0.17002145, 0.84373491],\n",
       "       [0.68866183, 0.62044846, 0.56941512],\n",
       "       [0.64737931, 0.78524222, 0.66790804]])"
      ]
     },
     "execution_count": 56,
     "metadata": {},
     "output_type": "execute_result"
    }
   ],
   "source": [
    "a = np.random.rand(3,3) # 0~1 사이의 랜덤한 숫자 (3X3 표)\n",
    "a"
   ]
  },
  {
   "cell_type": "code",
   "execution_count": null,
   "id": "58e4f536",
   "metadata": {},
   "outputs": [],
   "source": []
  },
  {
   "cell_type": "markdown",
   "id": "d25810a4",
   "metadata": {},
   "source": [
    "### numpy 에서 주의할 점\n",
    "- 주로 정수, 실수, boolean 을 다룬다\n",
    "- 기본 타입은 실수이다\n",
    "- 하나의 numpy 데이터에서는 한가지 타입만 적용해야 한다\n",
    "- 표형태의 데이터만 다룬다 (항목의 갯수가 틀린 행들은 다룰수 없다)\n",
    "- 3차원 데이터를 다룰수 있다 (물론 4차원, 5차원, 6차원,... 등등의 고차원 데이터를 다룰수 있다)"
   ]
  },
  {
   "cell_type": "code",
   "execution_count": 76,
   "id": "777adecc",
   "metadata": {},
   "outputs": [
    {
     "data": {
      "text/plain": [
       "array([1, 2, 3])"
      ]
     },
     "execution_count": 76,
     "metadata": {},
     "output_type": "execute_result"
    }
   ],
   "source": [
    "l = [1, 2, 3]\n",
    "a = np.array(l)\n",
    "a"
   ]
  },
  {
   "cell_type": "code",
   "execution_count": 77,
   "id": "e617385d",
   "metadata": {},
   "outputs": [
    {
     "data": {
      "text/plain": [
       "((3,), dtype('int32'))"
      ]
     },
     "execution_count": 77,
     "metadata": {},
     "output_type": "execute_result"
    }
   ],
   "source": [
    "a.shape, a.dtype"
   ]
  },
  {
   "cell_type": "code",
   "execution_count": 74,
   "id": "6ab69410",
   "metadata": {},
   "outputs": [
    {
     "data": {
      "text/plain": [
       "array([1.  , 2.  , 3.14])"
      ]
     },
     "execution_count": 74,
     "metadata": {},
     "output_type": "execute_result"
    }
   ],
   "source": [
    "l = [1, 2, 3.14]\n",
    "a = np.array(l)\n",
    "a"
   ]
  },
  {
   "cell_type": "code",
   "execution_count": 75,
   "id": "82f6008b",
   "metadata": {},
   "outputs": [
    {
     "data": {
      "text/plain": [
       "((3,), dtype('float64'))"
      ]
     },
     "execution_count": 75,
     "metadata": {},
     "output_type": "execute_result"
    }
   ],
   "source": [
    "a.shape, a.dtype"
   ]
  },
  {
   "cell_type": "code",
   "execution_count": 58,
   "id": "ea3a67c4",
   "metadata": {},
   "outputs": [
    {
     "data": {
      "text/plain": [
       "array(['1', '2', 'three'], dtype='<U11')"
      ]
     },
     "execution_count": 58,
     "metadata": {},
     "output_type": "execute_result"
    }
   ],
   "source": [
    "l = [1, 2, 'three']\n",
    "a = np.array(l)\n",
    "a"
   ]
  },
  {
   "cell_type": "code",
   "execution_count": 59,
   "id": "e9f30408",
   "metadata": {},
   "outputs": [
    {
     "name": "stderr",
     "output_type": "stream",
     "text": [
      "<ipython-input-59-e7c60e6c91e1>:2: VisibleDeprecationWarning: Creating an ndarray from ragged nested sequences (which is a list-or-tuple of lists-or-tuples-or ndarrays with different lengths or shapes) is deprecated. If you meant to do this, you must specify 'dtype=object' when creating the ndarray\n",
      "  a = np.array(l)\n"
     ]
    },
    {
     "data": {
      "text/plain": [
       "array([list([1, 2]), list([3, 4]), list([5, 6]), list([7, 8, 9])],\n",
       "      dtype=object)"
      ]
     },
     "execution_count": 59,
     "metadata": {},
     "output_type": "execute_result"
    }
   ],
   "source": [
    "l = [[1,2], [3,4], [5,6], [7,8,9]]\n",
    "a = np.array(l)\n",
    "a # 에러는 아니지만 사용할 수 없는 결과가 나온다"
   ]
  },
  {
   "cell_type": "code",
   "execution_count": null,
   "id": "79a1b282",
   "metadata": {},
   "outputs": [],
   "source": []
  },
  {
   "cell_type": "code",
   "execution_count": 65,
   "id": "5e042f9f",
   "metadata": {
    "scrolled": true
   },
   "outputs": [
    {
     "data": {
      "text/plain": [
       "[[2, 4, 6, 8, 10, 12, 14, 16, 18],\n",
       " [3, 6, 9, 12, 15, 18, 21, 24, 27],\n",
       " [4, 8, 12, 16, 20, 24, 28, 32, 36],\n",
       " [5, 10, 15, 20, 25, 30, 35, 40, 45],\n",
       " [6, 12, 18, 24, 30, 36, 42, 48, 54],\n",
       " [7, 14, 21, 28, 35, 42, 49, 56, 63],\n",
       " [8, 16, 24, 32, 40, 48, 56, 64, 72],\n",
       " [9, 18, 27, 36, 45, 54, 63, 72, 81]]"
      ]
     },
     "execution_count": 65,
     "metadata": {},
     "output_type": "execute_result"
    }
   ],
   "source": [
    "gugudan = [[i*j for j in range(1,10)] for i in range(2,10)]\n",
    "gugudan"
   ]
  },
  {
   "cell_type": "code",
   "execution_count": 66,
   "id": "ebbb3416",
   "metadata": {},
   "outputs": [
    {
     "data": {
      "text/plain": [
       "(8, 9)"
      ]
     },
     "execution_count": 66,
     "metadata": {},
     "output_type": "execute_result"
    }
   ],
   "source": [
    "a = np.array(gugudan)\n",
    "a.shape"
   ]
  },
  {
   "cell_type": "code",
   "execution_count": 69,
   "id": "6a154d35",
   "metadata": {},
   "outputs": [
    {
     "data": {
      "text/plain": [
       "array([[ 2.,  4.,  6.,  8., 10., 12., 14., 16., 18.],\n",
       "       [ 3.,  6.,  9., 12., 15., 18., 21., 24., 27.],\n",
       "       [ 4.,  8., 12., 16., 20., 24., 28., 32., 36.],\n",
       "       [ 5., 10., 15., 20., 25., 30., 35., 40., 45.],\n",
       "       [ 6., 12., 18., 24., 30., 36., 42., 48., 54.],\n",
       "       [ 7., 14., 21., 28., 35., 42., 49., 56., 63.],\n",
       "       [ 8., 16., 24., 32., 40., 48., 56., 64., 72.],\n",
       "       [ 9., 18., 27., 36., 45., 54., 63., 72., 81.]])"
      ]
     },
     "execution_count": 69,
     "metadata": {},
     "output_type": "execute_result"
    }
   ],
   "source": [
    "a = np.array(gugudan, dtype='float')\n",
    "a"
   ]
  },
  {
   "cell_type": "code",
   "execution_count": 70,
   "id": "5bbb839a",
   "metadata": {},
   "outputs": [
    {
     "data": {
      "text/plain": [
       "array([[ True,  True,  True,  True,  True,  True,  True,  True,  True],\n",
       "       [False,  True, False,  True, False,  True, False,  True, False],\n",
       "       [ True,  True,  True,  True,  True,  True,  True,  True,  True],\n",
       "       [False,  True, False,  True, False,  True, False,  True, False],\n",
       "       [ True,  True,  True,  True,  True,  True,  True,  True,  True],\n",
       "       [False,  True, False,  True, False,  True, False,  True, False],\n",
       "       [ True,  True,  True,  True,  True,  True,  True,  True,  True],\n",
       "       [False,  True, False,  True, False,  True, False,  True, False]])"
      ]
     },
     "execution_count": 70,
     "metadata": {},
     "output_type": "execute_result"
    }
   ],
   "source": [
    "a%2 == 0 # 항목이 짝수인지 확인"
   ]
  },
  {
   "cell_type": "code",
   "execution_count": null,
   "id": "12240d34",
   "metadata": {},
   "outputs": [],
   "source": []
  },
  {
   "cell_type": "code",
   "execution_count": 71,
   "id": "fb96a958",
   "metadata": {},
   "outputs": [
    {
     "data": {
      "text/plain": [
       "<matplotlib.colorbar.Colorbar at 0x18e19cc90a0>"
      ]
     },
     "execution_count": 71,
     "metadata": {},
     "output_type": "execute_result"
    },
    {
     "data": {
      "image/png": "[encoded data removed]",
      "text/plain": [
       "<Figure size 432x288 with 2 Axes>"
      ]
     },
     "metadata": {
      "needs_background": "light"
     },
     "output_type": "display_data"
    }
   ],
   "source": [
    "import matplotlib.pyplot as plt\n",
    "plt.imshow(a)\n",
    "plt.colorbar()"
   ]
  },
  {
   "cell_type": "code",
   "execution_count": null,
   "id": "16d599d9",
   "metadata": {},
   "outputs": [],
   "source": []
  },
  {
   "cell_type": "code",
   "execution_count": 73,
   "id": "f47f1d83",
   "metadata": {},
   "outputs": [
    {
     "data": {
      "text/plain": [
       "(3, 2, 2)"
      ]
     },
     "metadata": {},
     "output_type": "display_data"
    },
    {
     "data": {
      "text/plain": [
       "array([[[ 1,  2],\n",
       "        [ 3,  4]],\n",
       "\n",
       "       [[ 5,  6],\n",
       "        [ 7,  8]],\n",
       "\n",
       "       [[ 9, 10],\n",
       "        [11, 12]]])"
      ]
     },
     "metadata": {},
     "output_type": "display_data"
    }
   ],
   "source": [
    "l = [[[1,2], [3,4]], [[5,6], [7,8]], [[9,10], [11,12]]] # 3차원 데이터\n",
    "a = np.array(l)\n",
    "display(a.shape, a)"
   ]
  },
  {
   "cell_type": "code",
   "execution_count": null,
   "id": "fe8bc8f8",
   "metadata": {},
   "outputs": [],
   "source": []
  }
 ],
 "metadata": {
  "kernelspec": {
   "display_name": "Python 3",
   "language": "python",
   "name": "python3"
  },
  "language_info": {
   "codemirror_mode": {
    "name": "ipython",
    "version": 3
   },
   "file_extension": ".py",
   "mimetype": "text/x-python",
   "name": "python",
   "nbconvert_exporter": "python",
   "pygments_lexer": "ipython3",
   "version": "3.8.8"
  }
 },
 "nbformat": 4,
 "nbformat_minor": 5
}
